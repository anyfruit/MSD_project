{
 "cells": [
  {
   "cell_type": "markdown",
   "metadata": {},
   "source": [
    " # Wave14 Data Preprocessing"
   ]
  },
  {
   "cell_type": "code",
   "execution_count": null,
   "metadata": {},
   "outputs": [],
   "source": [
    "# %%\n",
    "import pandas as pd\n",
    "import numpy as np\n"
   ]
  },
  {
   "cell_type": "code",
   "execution_count": null,
   "metadata": {},
   "outputs": [],
   "source": [
    "# %%\n",
    "df14 = pd.read_excel(r'02_data\\wave14\\24CR321 data_for AA.xlsx', '主问卷-公式用')\n"
   ]
  },
  {
   "cell_type": "markdown",
   "metadata": {},
   "source": [
    " ### Part E"
   ]
  },
  {
   "cell_type": "code",
   "execution_count": null,
   "metadata": {},
   "outputs": [],
   "source": [
    "# %%\n",
    "# df14 = df14.iloc[:161] # 160 response in total\n",
    "# df14\n",
    "len(df14) # 180 response in total"
   ]
  },
  {
   "cell_type": "code",
   "execution_count": null,
   "metadata": {},
   "outputs": [],
   "source": [
    "# %%\n",
    "col_E5 = [col for col in df14 if col.startswith('E5')]\n",
    "df14_E5 = df14[col_E5].iloc[:, 1:] # 去除E5_5_other（文本信息，对应品牌不明）\n",
    "respid = df14[['respid']]\n",
    "df14_E5 = respid.join(df14_E5) # add respid column\n",
    "n = len(df14_E5)\n",
    "# df14_E5\n"
   ]
  },
  {
   "cell_type": "code",
   "execution_count": null,
   "metadata": {},
   "outputs": [],
   "source": [
    "# %%\n",
    "col_names = ['respid', '品牌', 'E5_1-1.医药代表拜访', 'E5_2-2.厂家推广活动（如：线上、线下会议）', 'E5_3-3.线上渠道', 'E5_4-4.学术大会', 'E5_5-5.其他']\n",
    "df14_E5_new = pd.DataFrame(columns=col_names)\n",
    "brand_dict = {'x1': '可瑞达', 'x2': '艾瑞卡', 'x3': '百泽安', 'x4': '达伯舒'}\n",
    "for key, value in brand_dict.items():\n",
    "    df = df14_E5.filter(regex=('respid|'+key))\n",
    "    brand_col = pd.DataFrame({'品牌': [value]*n})\n",
    "    df.insert(1, '品牌', brand_col)\n",
    "    df.columns = col_names\n",
    "    df = df.iloc[1:, :]\n",
    "    # print(df)\n",
    "    df14_E5_new = pd.concat([df14_E5_new, df], axis=0, ignore_index=True)\n",
    "# df14_E5_new[df14_E5_new['respid']==30189]\n",
    "df14_E5_new\n"
   ]
  },
  {
   "cell_type": "code",
   "execution_count": null,
   "metadata": {},
   "outputs": [],
   "source": [
    "# %%\n",
    "col_E4 = [col for col in df14 if col.startswith('E4')]\n",
    "df14_E4 = df14[col_E4]\n",
    "df14_E4 = respid.join(df14_E4) # add respid column\n",
    "n = len(df14_E4)\n",
    "# df14_E4\n"
   ]
  },
  {
   "cell_type": "code",
   "execution_count": null,
   "metadata": {},
   "outputs": [],
   "source": [
    "# %%\n",
    "col_names = ['respid', '品牌', 'E4_1-1.生存期长', 'E4_2-2.客观缓解率高', 'E4_3-3.缓解时间长', 'E4_4-4.副反应耐受性好', 'E4_5-5.不同PD-L1表达的患者均有获益'] # E4_5-5 name different from wave12\n",
    "df14_E4_new = pd.DataFrame(columns=col_names)\n",
    "brand_dict = {'1': '可瑞达', '2': '艾瑞卡', '3': '达伯舒', '4': '百泽安'}\n",
    "for key, value in brand_dict.items():\n",
    "    col_key = [col for col in df14_E4 if col.endswith(key)]\n",
    "    df = df14_E4[col_key]\n",
    "    df = respid.join(df) # add respid column\n",
    "    brand_col = pd.DataFrame({'品牌': [value]*n})\n",
    "    df.insert(1, '品牌', brand_col)\n",
    "    df.columns = col_names\n",
    "    df = df.iloc[1:, :]\n",
    "    # print(df)\n",
    "    df14_E4_new = pd.concat([df14_E4_new, df], axis=0, ignore_index=True)\n",
    "# df14_E4_new[df14_E4_new['respid']==739]\n",
    "df14_E4_new\n"
   ]
  },
  {
   "cell_type": "code",
   "execution_count": null,
   "metadata": {},
   "outputs": [],
   "source": [
    "# %%\n",
    "df14_E_merged = pd.merge(df14_E4_new, df14_E5_new, on=['respid', '品牌'], how='outer')\n",
    "df14_E_merged\n"
   ]
  },
  {
   "cell_type": "markdown",
   "metadata": {},
   "source": [
    " ### Part C"
   ]
  },
  {
   "cell_type": "code",
   "execution_count": null,
   "metadata": {},
   "outputs": [],
   "source": [
    "# %%\n",
    "col_C2 = [col for col in df14 if col.startswith('C2')]\n",
    "df14_C2 = df14[col_C2].iloc[:, 9:] # 去除C2x0（wave14中有数据，但仅用于筛选后续显示题目）\n",
    "df14_C2 = respid.join(df14_C2) # add respid column\n",
    "n = len(df14_C2)\n",
    "# df14_C2\n"
   ]
  },
  {
   "cell_type": "code",
   "execution_count": null,
   "metadata": {},
   "outputs": [],
   "source": [
    "# %%\n",
    "col_names = ['respid', '品牌', 'C2_1-1.有效延长总生存期', 'C2_2-2.客观缓解率高 ', 'C2_3-3.持续缓解时间长', 'C2_4-4.副作用少', 'C2_5-5.副作用处理容易', \n",
    "             'C2_6-6.医保/慈善赠药/商业保险报销后的自费价格容易被患者接受', 'C2_7-7.晚期一线治疗中临床证据充分/指南推荐等级高', 'C2_8-8.各PD-L1表达水平均有获益', 'C2_9-9.疗效和安全性在多个瘤种中得到验证']\n",
    "df14_C2_new = pd.DataFrame(columns=col_names)\n",
    "brand_dict = {'x1': '欧狄沃', 'x2': '可瑞达', 'x3': '泰圣奇', 'x4': '英飞凡', 'x5': '艾瑞卡', 'x6': '百泽安', 'x7': '达伯舒', 'x8': '汉斯状'}\n",
    "for key, value in brand_dict.items():\n",
    "    df = df14_C2.filter(regex=('respid|'+key))\n",
    "    brand_col = pd.DataFrame({'品牌': [value]*n})\n",
    "    df.insert(1, '品牌', brand_col)\n",
    "    df.columns = col_names\n",
    "    df = df.iloc[1:, :]\n",
    "    # print(df)\n",
    "    df14_C2_new = pd.concat([df14_C2_new, df], axis=0, ignore_index=True)\n",
    "# df14_C2_new[df14_C2_new['respid']==30189]\n",
    "df14_C2_new"
   ]
  },
  {
   "cell_type": "code",
   "execution_count": null,
   "metadata": {},
   "outputs": [],
   "source": [
    "# %%\n",
    "col_C3 = [col for col in df14 if col.startswith('C3')]\n",
    "df14_C3 = df14[col_C3]\n",
    "df14_C3 = respid.join(df14_C3) # add respid column\n",
    "# df14_C3\n"
   ]
  },
  {
   "cell_type": "code",
   "execution_count": null,
   "metadata": {},
   "outputs": [],
   "source": [
    "# %%\n",
    "col_names = ['respid', '欧狄沃', '可瑞达', '泰圣奇', '英飞凡', '艾瑞卡', '百泽安', '达伯舒', '汉斯状']\n",
    "df14_C3.columns = col_names\n",
    "df14_C3 = df14_C3.iloc[1:, :]\n",
    "df14_C3 = pd.melt(df14_C3, id_vars='respid', var_name='品牌', value_name='C3-品牌总体满意度')\n",
    "df14_C3_new = df14_C3\n",
    "# df14_C3_new[df14_C3_new['respid']==30189]\n",
    "df14_C3_new\n"
   ]
  },
  {
   "cell_type": "code",
   "execution_count": null,
   "metadata": {},
   "outputs": [],
   "source": [
    "# %%\n",
    "col_C4 = [col for col in df14 if col.startswith('C4')]\n",
    "df14_C4 = df14[col_C4]\n",
    "df14_C4 = respid.join(df14_C4).iloc[1:, :] # add respid column and remove first row\n",
    "df14_C4.columns = ['respid', '品牌']\n",
    "brand_dict = {1: '欧狄沃', 2: '可瑞达', 3: '泰圣奇', 4: '英飞凡', 5: '艾瑞卡', 6: '百泽安', 7: '达伯舒', 8: '汉斯状'}\n",
    "df14_C4 = df14_C4.replace({'品牌': brand_dict})\n",
    "n = len(df14_C4)\n",
    "df14_C4['C4-最满意的免疫治疗药物品牌'] = [1]*n\n",
    "df14_C4_new = df14_C4\n",
    "df14_C4_new # fill na after merge\n"
   ]
  },
  {
   "cell_type": "code",
   "execution_count": null,
   "metadata": {},
   "outputs": [],
   "source": [
    "# %%\n",
    "df14_C_merged = pd.merge(df14_C2_new, df14_C3_new, on=['respid', '品牌'], how='outer')\n",
    "df14_C_merged = pd.merge(df14_C_merged, df14_C4_new, on=['respid', '品牌'], how='outer')\n",
    "df14_C_merged['C4-最满意的免疫治疗药物品牌'] = df14_C_merged['C4-最满意的免疫治疗药物品牌'].fillna(0)\n",
    "df14_C_merged\n"
   ]
  },
  {
   "cell_type": "markdown",
   "metadata": {},
   "source": [
    " ### Part F"
   ]
  },
  {
   "cell_type": "code",
   "execution_count": null,
   "metadata": {},
   "outputs": [],
   "source": [
    "# %%\n",
    "col_F1a = [col for col in df14 if col.startswith('F1a')]\n",
    "df14_F1a = df14[col_F1a].iloc[:, :-1] # 去除F1ax999_999（对应品牌不明）\n",
    "df14_F1a = respid.join(df14_F1a) # add respid column\n",
    "n = len(df14_F1a)\n",
    "# df14_F1a\n"
   ]
  },
  {
   "cell_type": "code",
   "execution_count": null,
   "metadata": {},
   "outputs": [],
   "source": [
    "# %%\n",
    "col_names = ['respid', '品牌', 'F1a_1-线下-1.科研赞助（临床实验/研究）', 'F1a_2-线下-2.全国/区域年会（厂家赞助参加）', 'F1a_3-线下-3.全国/区域年会的厂家卫星会/主办会', \n",
    "             'F1a_4-线下-4.城市会（厂家主办）', 'F1a_5-线下-5.院内科室会（有厂方代表参与的）', 'F1a_6-线下-6.小型专家沙龙/专家咨询会', 'F1a_7-线下-7.院际交流会/院内跨学科交流会', \n",
    "             'F1a_8-线上-8.作为参会者/听课者参加的小规模视频会（如院内科室会）', 'F1a_9-线上-9.作为参会者/听课者参加的大规模线上学术会议（如跨区域学术会议、全国性学术会议）', \n",
    "             'F1a_10-线上-10.线上小型专家沙龙/专家咨询会', 'F1a_11-线上-11.作为主讲人参加的线上学术会议']\n",
    "df14_F1a_new = pd.DataFrame(columns=col_names)\n",
    "brand_dict = {'x1': '欧狄沃', 'x2': '可瑞达', 'x3': '艾瑞卡', 'x4': '百泽安', 'x5': '达伯舒'}\n",
    "for key, value in brand_dict.items():\n",
    "    df = df14_F1a.filter(regex=('respid|'+key))\n",
    "    brand_col = pd.DataFrame({'品牌': [value]*n})\n",
    "    df.insert(1, '品牌', brand_col)\n",
    "    df.columns = col_names\n",
    "    df = df.iloc[1:, :]\n",
    "    # print(df)\n",
    "    df14_F1a_new = pd.concat([df14_F1a_new, df], axis=0, ignore_index=True)\n",
    "# df14_F1a_new[df14_F1a_new['respid']==30189]\n",
    "df14_F1a_new\n"
   ]
  },
  {
   "cell_type": "code",
   "execution_count": null,
   "metadata": {},
   "outputs": [],
   "source": [
    "# %%\n",
    "col_F1b = [col for col in df14 if col.startswith('F1b')]\n",
    "df14_F1b = df14[col_F1b]\n",
    "df14_F1b = respid.join(df14_F1b) # add respid column\n",
    "n = len(df14_F1b)\n",
    "# df14_F1b\n"
   ]
  },
  {
   "cell_type": "code",
   "execution_count": null,
   "metadata": {},
   "outputs": [],
   "source": [
    "# %%\n",
    "col_names = ['respid', '品牌', 'F1b1-线下活动综合打分', 'F1b2-线上活动综合打分']\n",
    "df14_F1b_new = pd.DataFrame(columns=col_names)\n",
    "brand_dict = {'1': '欧狄沃', '2': '可瑞达', '3': '艾瑞卡', '4': '百泽安', '5': '达伯舒'}\n",
    "for key, value in brand_dict.items():\n",
    "    col_key = [col for col in df14_F1b if col.endswith(key)]\n",
    "    df = df14_F1b[col_key]\n",
    "    df = respid.join(df) # add respid column\n",
    "    brand_col = pd.DataFrame({'品牌': [value]*n})\n",
    "    df.insert(1, '品牌', brand_col)\n",
    "    df.columns = col_names\n",
    "    df = df.iloc[1:, :]\n",
    "    # print(df)\n",
    "    df14_F1b_new = pd.concat([df14_F1b_new, df], axis=0, ignore_index=True)\n",
    "# df14_F1b_new[df14_F1b_new['respid']==30189]\n",
    "df14_F1b_new\n"
   ]
  },
  {
   "cell_type": "code",
   "execution_count": null,
   "metadata": {},
   "outputs": [],
   "source": [
    "# %%\n",
    "df14_F_merged = pd.merge(df14_F1a_new, df14_F1b_new, on=['respid', '品牌'], how='outer')\n",
    "df14_F_merged\n"
   ]
  },
  {
   "cell_type": "code",
   "execution_count": null,
   "metadata": {},
   "outputs": [],
   "source": [
    "# %%\n",
    "# col_F1cd = [col for col in df14 if col.startswith(('F1c', 'F1d'))]\n",
    "# df14_F1cd = df14[col_F1cd]\n",
    "# df14_F1cd = respid.join(df14_F1cd) # add respid column\n",
    "# # df14_F1cd\n"
   ]
  },
  {
   "cell_type": "code",
   "execution_count": null,
   "metadata": {},
   "outputs": [],
   "source": [
    "# %%\n",
    "# col_names = ['respid', '品牌', 'F1c-最有价值的活动', 'F1d_1-专家级别及互动-1.邀请领域知名专家/海外专家', 'F1d_2-专家级别及互动-2.和专家/演讲者互动性强，且交流顺畅', 'F1d_3-活动内容-3.活动内容能够指导临床（如病例解读、病例分享等）', \n",
    "#              'F1d_4-活动内容-4.活动内容包含科研领域最新进展', 'F1d_5-活动内容-5.活动内容/环节丰富，能够1-3天集中学习', 'F1d_6-活动形式-6.活动短小精干，不占用太长时间（包含网络会议/学习课程）', \n",
    "#              'F1d_7-活动形式-7.活动中包含交流讨论环节（如有厂方代表参与的科会、院内会、城市会等）', 'F1d_8-活动形式-8.线上平台使用便捷，操作简单', 'F1d_9-活动形式-9.内容设计和呈现形式吸引人', \n",
    "#              'F1d_10-其他获益-10. 提供学分', 'F1d_11-其他获益-11. 提供科研赞助']\n",
    "# df14_F1cd_new = pd.DataFrame(columns=col_names)\n",
    "# brand_dict = {1: '欧狄沃', 2: '可瑞达', 3: '艾瑞卡', 4: '百泽安', 5: '达伯舒'}\n",
    "# activity_dict = {1: 'F1a_1-线下-1.科研赞助（临床实验/研究）', 2: 'F1a_2-线下-2.全国/区域年会（厂家赞助参加）', 3: 'F1a_3-线下-3.全国/区域年会的厂家卫星会/主办会', \n",
    "#              4: 'F1a_4-线下-4.城市会（厂家主办）', 5: 'F1a_5-线下-5.院内科室会（有厂方代表参与的）', 6: 'F1a_6-线下-6.小型专家沙龙/专家咨询会', 7: 'F1a_7-线下-7.院际交流会/院内跨学科交流会', \n",
    "#              8: 'F1a_8-线上-8.作为参会者/听课者参加的小规模视频会（如院内科室会）', 9: 'F1a_9-线上-9.作为参会者/听课者参加的大规模线上学术会议（如跨区域学术会议、全国性学术会议）', \n",
    "#              10: 'F1a_10-线上-10.线上小型专家沙龙/专家咨询会', 11: 'F1a_11-线上-11.作为主讲人参加的线上学术会议'}\n",
    "# for i in ['1', '2', '3']:\n",
    "#     df = df14_F1cd.filter(regex=('respid|cx'+i+'|dx'+i))\n",
    "#     df.columns = col_names\n",
    "#     df = df.iloc[1:, :]\n",
    "#     # print(df)\n",
    "#     df14_F1cd_new = pd.concat([df14_F1cd_new, df], axis=0, ignore_index=True)\n"
   ]
  },
  {
   "cell_type": "code",
   "execution_count": null,
   "metadata": {},
   "outputs": [],
   "source": [
    "# %%\n",
    "# df14_F1cd_new = df14_F1cd_new.replace({'品牌': brand_dict})\n",
    "# df14_F1cd_new = df14_F1cd_new.replace({'F1c-最有价值的活动': activity_dict})\n",
    "# df14_F1cd_new\n"
   ]
  },
  {
   "cell_type": "code",
   "execution_count": null,
   "metadata": {},
   "outputs": [],
   "source": [
    "# %%\n",
    "col_F2 = [col for col in df14 if col.startswith(('F2'))]\n",
    "df14_F2 = df14[col_F2]\n",
    "df14_F2 = respid.join(df14_F2) # add respid column\n",
    "# df14_F2\n"
   ]
  },
  {
   "cell_type": "code",
   "execution_count": null,
   "metadata": {},
   "outputs": [],
   "source": [
    "# %%\n",
    "col_names = ['respid', '品牌', 'F2a-医药代表是否跟进', 'F2b1-平均几天后跟进', 'F2b2-跟进满意度']\n",
    "df14_F2_new = pd.DataFrame(columns=col_names)\n",
    "brand_dict = {'1': '欧狄沃', '2': '可瑞达', '3': '艾瑞卡', '4': '百泽安', '5': '达伯舒'}\n",
    "for key, value in brand_dict.items():\n",
    "    col_key = [col for col in df14_F2 if col.endswith(key)]\n",
    "    df = df14_F2[col_key]\n",
    "    df = respid.join(df) # add respid column\n",
    "    brand_col = pd.DataFrame({'品牌': [value]*n})\n",
    "    df.insert(1, '品牌', brand_col)\n",
    "    df.columns = col_names\n",
    "    df = df.iloc[1:, :]\n",
    "    # print(df)\n",
    "    df14_F2_new = pd.concat([df14_F2_new, df], axis=0, ignore_index=True)\n"
   ]
  },
  {
   "cell_type": "code",
   "execution_count": null,
   "metadata": {},
   "outputs": [],
   "source": [
    "# %%\n",
    "# replacements = {1: '是', 2: '否'}\n",
    "# df14_F2_new = df14_F2_new.replace({'F2a-医药代表是否跟进': replacements})\n",
    "col_names_new = ['respid', '品牌', 'F2a-医药代表是否跟进', 'F2b1-平均几天后跟进', 'F2b2-跟进满意度']\n",
    "df14_F2_new = df14_F2_new.reindex(columns=col_names_new)\n",
    "# df14_F2_new[df14_F2_new['respid']==30189]\n",
    "df14_F2_new\n"
   ]
  },
  {
   "cell_type": "code",
   "execution_count": null,
   "metadata": {},
   "outputs": [],
   "source": [
    "# %%\n",
    "df14_F_merged = pd.merge(df14_F_merged, df14_F2_new, on=['respid', '品牌'], how='outer')\n",
    "df14_F_merged\n"
   ]
  },
  {
   "cell_type": "code",
   "execution_count": null,
   "metadata": {},
   "outputs": [],
   "source": [
    "# %%\n",
    "# df14_C_merged.to_excel(r'02_data\\wave14\\df14_C_merged.xlsx', index=False) # 1280 * 13 8个品牌\n",
    "# df14_E_merged.to_excel(r'02_data\\wave14\\df14_E_merged.xlsx', index=False) # 640 * 12 4个品牌\n",
    "# df14_F_merged.to_excel(r'02_data\\wave14\\df14_F_merged.xlsx', index=False) # 800 * 18 5个品牌 不包括df14_F1cd_new\n",
    "# df14_F1cd_new.to_excel(r'02_data\\wave14\\df14_F1cd_new.xlsx', index=False) # 480 * 14 respid&品牌不是unique的\n"
   ]
  },
  {
   "cell_type": "markdown",
   "metadata": {},
   "source": [
    " ### Part Info"
   ]
  },
  {
   "cell_type": "code",
   "execution_count": null,
   "metadata": {},
   "outputs": [],
   "source": [
    "# %%\n",
    "col_Info = [col for col in df14 if col.startswith(('respid', 'GH', 'GG'))]\n",
    "col_Info.extend(['G11', 'S1', 'S2', 'S3'])\n",
    "df14_Info = df14[col_Info]\n",
    "df14_Info = df14_Info.iloc[1:, :]\n",
    "df14_Info\n"
   ]
  },
  {
   "cell_type": "code",
   "execution_count": null,
   "metadata": {},
   "outputs": [],
   "source": [
    "# map region code to text: GH3_9999_other\n",
    "region_dict = {1: 'North', 2: 'South', 3: 'West', 4: 'Central', 5: 'East', 6: 'Central East'}\n",
    "df14_Info['GH3_9999_other'] = df14_Info['GH3_9999_other'].map(region_dict)"
   ]
  },
  {
   "cell_type": "markdown",
   "metadata": {},
   "source": [
    " ### Part D"
   ]
  },
  {
   "cell_type": "code",
   "execution_count": null,
   "metadata": {},
   "outputs": [],
   "source": [
    "# %%\n",
    "col_D1to4 = [col for col in df14 if col.startswith(('D1', 'D2', 'D3', 'D4'))]\n",
    "col_D3c = [col for col in df14 if col.startswith('D3c')]\n",
    "col_D1to4 = [item for item in col_D1to4 if item not in col_D3c] # remove D3c\n",
    "df14_D1to4 = df14[col_D1to4]\n",
    "df14_D1to4 = respid.join(df14_D1to4) # add respid column\n",
    "n = len(df14_D1to4)\n",
    "# df14_D1to4\n"
   ]
  },
  {
   "cell_type": "code",
   "execution_count": null,
   "metadata": {},
   "outputs": [],
   "source": [
    "# %%\n",
    "col_names = ['respid', '品牌', 'D1a-是否拜访', 'D1b_1-拜访形式-面对面拜访', 'D1b_2-拜访形式-线上拜访', 'D2a_1-拜访频率-面对面拜访', 'D2a_2-拜访频率-线上拜访', 'D2b_1-沟通时间-面对面拜访', \n",
    "             'D2b_2-沟通时间-线上拜访', 'D3a_1-最近一次拜访是否介绍产品-面对面拜访', 'D3b_1-介绍产品的时间比例-面对面拜访', \n",
    "             'D3a_2-最近一次拜访是否介绍产品-线上拜访', 'D3b_2-介绍产品的时间比例-线上拜访', 'D4_1-拜访满意度评分-面对面拜访', 'D4_2-拜访满意度评分-线上拜访']\n",
    "df14_D1to4_new = pd.DataFrame(columns=col_names)\n",
    "company_brand_dict = {'百时美施贵宝': '欧狄沃', '默沙东': '可瑞达', '罗氏': '泰圣奇', '阿斯利康': '英飞凡', '恒瑞': '艾瑞卡', '百济神州': '百泽安', '信达': '达伯舒', '复宏汉霖': '汉斯状'}\n",
    "for company, brand in company_brand_dict.items():\n",
    "    df = df14_D1to4.loc[:, df14_D1to4.iloc[0].str.contains(pat=brand)]\n",
    "    df = respid.join(df)\n",
    "    brand_col = pd.DataFrame({'品牌': [brand]*n})\n",
    "    df.insert(1, '品牌', brand_col)\n",
    "    df.columns = col_names\n",
    "    df = df.iloc[1:, :]\n",
    "    df14_D1to4_new = pd.concat([df14_D1to4_new, df], axis=0, ignore_index=True)\n",
    "# 其他\n",
    "df = df14_D1to4.loc[:, df14_D1to4.iloc[0].str.contains(pat='其他|other')]\n",
    "df = df.drop('D1a_97_other', axis=1) # drop D1a_97_other, 品牌文本信息\n",
    "df = respid.join(df)\n",
    "brand_col = pd.DataFrame({'品牌': ['其他']*n})\n",
    "df.insert(1, '品牌', brand_col)\n",
    "df.columns = col_names\n",
    "df = df.iloc[1:, :]\n",
    "df14_D1to4_new = pd.concat([df14_D1to4_new, df], axis=0, ignore_index=True)\n",
    "\n",
    "# df14_D1to4_new[df14_D1to4_new['respid']==30189]\n",
    "df14_D1to4_new"
   ]
  },
  {
   "cell_type": "code",
   "execution_count": null,
   "metadata": {},
   "outputs": [],
   "source": [
    "# %%\n",
    "col_D5 = [col for col in df14 if col.startswith('D5')]\n",
    "df14_D5 = df14[col_D5].drop('D5_5_other', axis=1) # 去除D5_5_other（文本信息，对应品牌不明）\n",
    "df14_D5 = respid.join(df14_D5) # add respid column\n",
    "n = len(df14_D5)\n",
    "# df14_D5\n"
   ]
  },
  {
   "cell_type": "code",
   "execution_count": null,
   "metadata": {},
   "outputs": [],
   "source": [
    "# %%\n",
    "col_names = ['respid', '品牌', 'D5_1-1.在拜访过程中使用ipad进行产品介绍（例如：eDA, PPT展示支持证据）', 'D5_2-2.通过厂家的数字化平台推送产品或学术相关的内容', 'D5_3-3.使用各种工具（电话，微信，邮件等），开展远程拜访', \n",
    "             'D5_4-4.邀请参加厂家的线上学术会议', 'D5_5-5.其他数字化方式', 'D5_6-6.没有使用数字化工具进行学术沟通']\n",
    "df14_D5_new = pd.DataFrame(columns=col_names)\n",
    "for company, brand in company_brand_dict.items():\n",
    "    df = df14_D5.loc[:, df14_D5.iloc[0].str.contains(pat=company)]\n",
    "    df = respid.join(df)\n",
    "    brand_col = pd.DataFrame({'品牌': [brand]*n})\n",
    "    df.insert(1, '品牌', brand_col)\n",
    "    df.columns = col_names\n",
    "    df = df.iloc[1:, :]\n",
    "    df14_D5_new = pd.concat([df14_D5_new, df], axis=0, ignore_index=True)\n",
    "# df14_D5_new[df14_D5_new['respid']==30189]\n",
    "df14_D5_new\n"
   ]
  },
  {
   "cell_type": "code",
   "execution_count": null,
   "metadata": {},
   "outputs": [],
   "source": [
    "# %%\n",
    "col_D6 = [col for col in df14 if col.startswith('D6')]\n",
    "df14_D6 = df14[col_D6]\n",
    "df14_D6 = respid.join(df14_D6) # add respid column\n",
    "# df14_D6\n"
   ]
  },
  {
   "cell_type": "code",
   "execution_count": null,
   "metadata": {},
   "outputs": [],
   "source": [
    "# %%\n",
    "col_names = ['respid', '品牌', 'D6a_1-1.当场向您展示或转发学术信息', 'D6a_2-2.1-2天后医药代表通过面对面拜访/邮件或其他在线方式向您提供反馈 ', 'D6a_3-3.3-4天或更长时间后医药代表通过面对面拜访/邮件或其他在线方式向您提供反馈', 'D6b-反馈及时性评分', 'D6c-反馈内容质量评分']\n",
    "df14_D6_new = pd.DataFrame(columns=col_names)\n",
    "company_brand_dict = {'百时美施贵宝': '欧狄沃', '默沙东': '可瑞达', '罗氏': '泰圣奇', '阿斯利康': '英飞凡', '恒瑞': '艾瑞卡', '百济神州': '百泽安', '信达': '达伯舒', '复宏汉霖': '汉斯状'}\n",
    "for company, brand in company_brand_dict.items():\n",
    "    df = df14_D6.loc[:, df14_D6.iloc[0].str.contains(pat=brand)]\n",
    "    df = respid.join(df)\n",
    "    brand_col = pd.DataFrame({'品牌': [brand]*n})\n",
    "    df.insert(1, '品牌', brand_col)\n",
    "    df.columns = col_names\n",
    "    df = df.iloc[1:, :]\n",
    "    df14_D6_new = pd.concat([df14_D6_new, df], axis=0, ignore_index=True)\n",
    "# df14_D6_new[df14_D6_new['respid']==30189]\n",
    "df14_D6_new"
   ]
  },
  {
   "cell_type": "code",
   "execution_count": null,
   "metadata": {},
   "outputs": [],
   "source": [
    "# %%\n",
    "col_D7a = [col for col in df14 if col.startswith('D7a')]\n",
    "df14_D7a = df14[col_D7a]\n",
    "brand_dict = {1: '欧狄沃', 2: '可瑞达', 3: '泰圣奇', 4: '英飞凡', 5: '艾瑞卡', 6: '百泽安', 7: '达伯舒', 8: '汉斯状'}\n",
    "df14_D7a = df14_D7a.replace(brand_dict)\n",
    "df14_D7a = respid.join(df14_D7a) # add respid column\n",
    "# df14_D7a\n"
   ]
  },
  {
   "cell_type": "code",
   "execution_count": null,
   "metadata": {},
   "outputs": [],
   "source": [
    "# %%\n",
    "df14_D7a = df14_D7a.iloc[1:, :]\n",
    "brand_list = list(brand_dict.values())\n",
    "brand_list.insert(0, 99) # add 99 which indicates None\n",
    "# print(brand_list)\n"
   ]
  },
  {
   "cell_type": "code",
   "execution_count": null,
   "metadata": {},
   "outputs": [],
   "source": [
    "# %%\n",
    "# one hot encoding with specified brand list while keeping NA inplace, drop 99（均无该方面表现）\n",
    "# df14_D7_dummies = pd.get_dummies(df14_D6.iloc[:, 1:].astype(pd.CategoricalDtype(categories=brand_list)).dropna(), drop_first=False, dtype=int).reindex(df14_D6.index)\n",
    "df14_D7a_dummies = pd.get_dummies(df14_D7a.iloc[:, 1:].astype(pd.CategoricalDtype(categories=brand_list)), drop_first=True, dtype=int, dummy_na=True)\n",
    "\n",
    "respid_1 = respid.iloc[1:, :]\n",
    "df14_D7a_dummies = respid_1.join(df14_D7a_dummies) # add respid column\n",
    "n = len(df14_D7a_dummies)\n",
    "D7a_dummies_dict = {'D7a_1_nan': 'D7a_1', 'D7a_2_nan': 'D7a_2', 'D7a_3_nan': 'D7a_3', 'D7a_4_nan': 'D7a_4', 'D7a_5_nan': 'D7a_5', 'D7a_6_nan': 'D7a_6', 'D7a_7_nan': 'D7a_7', 'D7a_8_nan': 'D7a_8', 'D7a_9_nan': 'D7a_9'}\n",
    "for key, value in D7a_dummies_dict.items():\n",
    "    df14_D7a_dummies.loc[df14_D7a_dummies[key]==1, df14_D7a_dummies.columns.str.startswith(value)] = np.nan\n",
    "df14_D7a_dummies = df14_D7a_dummies.drop(list(D7a_dummies_dict.keys()), axis=1)\n",
    "n = len(df14_D7a_dummies)\n",
    "# df14_D7a_dummies[df14_D7a_dummies['respid']==819]\n",
    "# df14_D7a_dummies\n"
   ]
  },
  {
   "cell_type": "code",
   "execution_count": null,
   "metadata": {},
   "outputs": [],
   "source": [
    "# %%\n",
    "col_names = ['respid', '品牌', 'D7a_1-1.该公司的产品医药代表能够全面的与我沟通疾病知识以及产品信息', 'D7a_2-2.针对产品的适用人群，能清晰地介绍产品相关医学关键信息', 'D7a_3-3.代表能够通过提问清晰了解我的学术需求', \n",
    "             'D7a_4-4.对我提出的专业学术需求能做到积极及时的响应', 'D7a_5-5.针对我的学术需求，跟进中能提供前沿的和综合的医学信息支持（如最新学术进展，市场准入信息等）', 'D7a_6-6.能对我遇到的临床问题及时响应', \n",
    "             'D7a_7-7.医学资料搜索和提供能力强，提供的学术信息有吸引力', 'D7a_8-8.该公司的产品医药代表行为、举止专业，能与我建立良好的学术关系', 'D7a_9-9.医药代表要求对下一个合适的病人处方该公司的产品']\n",
    "df14_D7a_new = pd.DataFrame(columns=col_names)\n",
    "for key, brand in brand_dict.items():\n",
    "    col_key = [col for col in df14_D7a_dummies if col.endswith(brand)]\n",
    "    df = df14_D7a_dummies[col_key]\n",
    "    df = respid_1.join(df)\n",
    "    brand_col = pd.DataFrame({'品牌': [brand]*(n+1)}) ### ???\n",
    "    df.insert(1, '品牌', brand_col)\n",
    "    df.columns = col_names\n",
    "    df14_D7a_new = pd.concat([df14_D7a_new, df], axis=0, ignore_index=True)\n",
    "# df14_D7a_new[df14_D7a_new['respid']==819]\n",
    "df14_D7a_new\n"
   ]
  },
  {
   "cell_type": "code",
   "execution_count": null,
   "metadata": {},
   "outputs": [],
   "source": [
    "# %%\n",
    "col_D7b = [col for col in df14 if col.startswith('D7b')]\n",
    "df14_D7b = df14[col_D7b]\n",
    "df14_D7b = respid.join(df14_D7b).iloc[1:, :]\n",
    "df14_D7b.columns = ['respid', '品牌']\n",
    "brand_dict = {1: '欧狄沃', 2: '可瑞达', 3: '泰圣奇', 4: '英飞凡', 5: '艾瑞卡', 6: '百泽安', 7: '达伯舒', 8: '汉斯状'}\n",
    "df14_D7b = df14_D7b.replace(brand_dict)\n",
    "n = len(df14_D7b)\n",
    "df14_D7b['D7b-医药代表综合表现最好'] = [1]*n\n",
    "df14_D7b_new = df14_D7b.dropna()\n",
    "# df14_D7b_new # fill na with 0 after merge, leave na for '其他'\n"
   ]
  },
  {
   "cell_type": "code",
   "execution_count": null,
   "metadata": {},
   "outputs": [],
   "source": [
    "# %%\n",
    "col_D7c = [col for col in df14 if col.startswith('D7c')]\n",
    "df14_D7c = df14[col_D7c]\n",
    "df14_D7c.columns = list(brand_dict.values())\n",
    "df14_D7c = respid.join(df14_D7c) # add respid column\n",
    "df14_D7c = df14_D7c.iloc[1:, :]\n",
    "df14_D7c_new = pd.melt(df14_D7c, id_vars='respid', var_name='品牌', value_name='D7c-医药代表整体满意度评分')\n",
    "# df14_D7c_new\n"
   ]
  },
  {
   "cell_type": "code",
   "execution_count": null,
   "metadata": {},
   "outputs": [],
   "source": [
    "# %%\n",
    "df14_D7bc_merged = pd.merge(df14_D7b_new, df14_D7c_new, on=['respid', '品牌'], how='right')\n",
    "# fill unselected brands as 0, leave no answer as na\n",
    "df14_D7bc_merged['D7b-医药代表综合表现最好'] = np.where((df14_D7bc_merged['respid'].isin(df14_D7b_new['respid'])) & (df14_D7bc_merged['D7b-医药代表综合表现最好']!=1), 0, df14_D7bc_merged['D7b-医药代表综合表现最好'])\n",
    "df14_D7bc_merged[df14_D7bc_merged['respid']==30189]\n"
   ]
  },
  {
   "cell_type": "code",
   "execution_count": null,
   "metadata": {},
   "outputs": [],
   "source": [
    "# %%\n",
    "df14_D_merged = pd.merge(df14_D1to4_new, df14_D5_new, on=['respid', '品牌'], how='outer')\n",
    "df14_D_merged = pd.merge(df14_D_merged, df14_D6_new, on=['respid', '品牌'], how='outer')\n",
    "df14_D_merged = pd.merge(df14_D_merged, df14_D7a_new, on=['respid', '品牌'], how='outer')\n",
    "df14_D_merged = pd.merge(df14_D_merged, df14_D7bc_merged, on=['respid', '品牌'], how='outer')\n",
    "df14_D_merged.iloc[:, -11:].head(20)"
   ]
  },
  {
   "cell_type": "code",
   "execution_count": null,
   "metadata": {},
   "outputs": [],
   "source": [
    "# replace columns D7a, D7b, D7c with 0 if values in column D1a is not 1\n",
    "columns_to_fill = [col for col in df14_D_merged if col.startswith('D7a') or col.startswith('D7b') or col.startswith('D7c')]\n",
    "df14_D_merged.loc[df14_D_merged['D1a-是否拜访']!=1, columns_to_fill] = np.nan\n",
    "# df14_D_merged"
   ]
  },
  {
   "cell_type": "code",
   "execution_count": null,
   "metadata": {},
   "outputs": [],
   "source": [
    "final_brand_list = ['可瑞达', '艾瑞卡', '达伯舒', '百泽安']\n",
    "df14_final_4brand = df14_D_merged[df14_D_merged['品牌'].isin(final_brand_list)]\n",
    "df14_final_4brand.iloc[:, -11:].head(20)"
   ]
  },
  {
   "cell_type": "markdown",
   "metadata": {},
   "source": [
    " ### Part G"
   ]
  },
  {
   "cell_type": "code",
   "execution_count": null,
   "metadata": {},
   "outputs": [],
   "source": [
    "# %%\n",
    "col_G3 = [col for col in df14 if col.startswith('G2')]\n",
    "df14_G3 = df14[col_G3].iloc[1:, :]\n",
    "brand_list = ['欧狄沃', '可瑞达', '泰圣奇', '英飞凡', '艾瑞卡', '百泽安', '达伯舒', '拓益', '安尼可', '汉斯状']\n",
    "df14_G3.columns = brand_list\n",
    "df14_G3 = respid_1.join(df14_G3) # add respid column\n",
    "n = len(df14_G3)\n",
    "# df14_G3\n"
   ]
  },
  {
   "cell_type": "code",
   "execution_count": null,
   "metadata": {},
   "outputs": [],
   "source": [
    "# %%\n",
    "df14_G3 = pd.melt(df14_G3, id_vars='respid', var_name='品牌', value_name='G3-推荐意愿评分')\n",
    "df14_G3_new = df14_G3\n",
    "df14_G3_new.loc[df14_G3_new['G3-推荐意愿评分']==99, 'G3-推荐意愿评分'] = np.nan # 99 为不熟悉该公司产品或无法评价，替换为na\n",
    "df14_G3_new\n"
   ]
  },
  {
   "cell_type": "markdown",
   "metadata": {},
   "source": [
    " ### Part B"
   ]
  },
  {
   "cell_type": "code",
   "execution_count": null,
   "metadata": {},
   "outputs": [],
   "source": [
    "# %%\n",
    "col_B1 = [col for col in df14 if col.startswith('B1')]\n",
    "df14_B1 = df14[col_B1]\n",
    "for i in df14_B1.columns: # strip all whitespaces\n",
    "    df14_B1[i] = df14_B1[i].str.strip()\n",
    "df14_B1\n"
   ]
  },
  {
   "cell_type": "code",
   "execution_count": null,
   "metadata": {},
   "outputs": [],
   "source": [
    "# %%\n",
    "mappings = {\n",
    "    '纳武利尤单抗': '欧狄沃',\n",
    "    '百时美施贵宝': '欧狄沃',\n",
    "    'O药': '欧狄沃',\n",
    "    '欧迪沃': '欧狄沃',\n",
    "    '纳武单抗': '欧狄沃',\n",
    "    'o药': '欧狄沃',\n",
    "    '纳武利尤': '欧狄沃',\n",
    "    '施贵宝': '欧狄沃',\n",
    "    '纳武利由单抗': '欧狄沃',\n",
    "    '纳武力尤单抗': '欧狄沃',\n",
    "    '纳武利尤单抗单抗': '欧狄沃',\n",
    "    \n",
    "    '帕博利珠单抗': '可瑞达', \n",
    "    '默沙东': '可瑞达',\n",
    "    'K药': '可瑞达',\n",
    "    '帕博丽珠单抗': '可瑞达',\n",
    "    '帕博利珠单抗（可瑞达）': '可瑞达',\n",
    "    '帕博利珠单抗单药': '可瑞达',\n",
    "    '帕博利': '可瑞达', \n",
    "    'k药': '可瑞达',\n",
    "    '帕博利珠': '可瑞达',\n",
    "    '派姆单抗': '可瑞达', ##\n",
    "    '帕博利珠单抚': '可瑞达',\n",
    "    '科瑞达': '可瑞达',\n",
    "    \n",
    "    '阿替利珠单抗': '泰圣奇',\n",
    "    '罗氏': '泰圣奇',\n",
    "    'T药': '泰圣奇',\n",
    "    '阿替利珠': '泰圣奇',\n",
    "    '阿特珠单抗': '泰圣奇',\n",
    "    '阿特珠': '泰圣奇',\n",
    "    '阿替利珠单': '泰圣奇',\n",
    "    '阿替丽珠单抗': '泰圣奇',\n",
    "    '泰圣奇（T药）': '泰圣奇',\n",
    "    \n",
    "    '度伐利尤单抗': '英飞凡',\n",
    "    '阿斯利康': '英飞凡', \n",
    "    'I药': '英飞凡',\n",
    "    '度伐利尤': '英飞凡',\n",
    "    '度伐利由单抗': '英飞凡',\n",
    "    '英非凡': '英飞凡',\n",
    "    '度伐利优': '英飞凡',\n",
    "    '德瓦鲁单抗': '英飞凡', ##\n",
    "    '德瓦库': '英飞凡', ###\n",
    "    '高飞凡': '英飞凡', ###\n",
    "    \n",
    "    '卡瑞利珠单抗': '艾瑞卡',\n",
    "    '恒瑞': '艾瑞卡',\n",
    "    '卡瑞丽珠': '艾瑞卡',\n",
    "    '卡瑞利珠': '艾瑞卡',\n",
    "    '卡瑞丽珠单抗': '艾瑞卡',\n",
    "    '卡瑞卡': '艾瑞卡', ###\n",
    "    '卡瑞利柱单抗': '艾瑞卡',\n",
    "    \n",
    "    '替雷利珠单抗': '百泽安',\n",
    "    '百济神州': '百泽安',\n",
    "    '替雷丽珠单抗': '百泽安',\n",
    "    '雷替丽珠单抗': '百泽安',\n",
    "    '替雷利珠': '百泽安',\n",
    "    '白安泽': '百泽安',\n",
    "    '百济': '百泽安',\n",
    "    '替雷珠单抗': '百泽安',\n",
    "    '百安泽': '百泽安',\n",
    "    '白泽安': '百泽安',\n",
    "    \n",
    "    '信迪利单抗': '达伯舒',\n",
    "    '信达': '达伯舒',\n",
    "    '信迪利': '达伯舒',\n",
    "    '达铂舒': '达伯舒',\n",
    "    '信迪丽': '达伯舒',\n",
    "    '信迪力单抗': '达伯舒',\n",
    "    '达博舒': '达伯舒',\n",
    "    \n",
    "    '斯鲁利单抗': '汉斯状',\n",
    "    '复宏汉霖': '汉斯状',\n",
    "    '司鲁利': '汉斯状',\n",
    "    '斯鲁利': '汉斯状',\n",
    "    '斯鲁力单抗': '汉斯状',\n",
    "    \n",
    "    \n",
    "    '特瑞普利单抗': '拓益',\n",
    "    '特瑞普利': '拓益',\n",
    "    '特瑞普': '拓益',\n",
    "    '君实': '拓益',\n",
    "    \n",
    "    '安妮可': '安尼可',\n",
    "    '安尼克': '安尼可',\n",
    "    '派安普利单抗': '安尼可',\n",
    "    \n",
    "    '西米普利单抗': '其他', ###\n",
    "    '恩沃利单抗': '其他', ###\n",
    "    '赛诺菲': '其他', ###\n",
    "    '塞诺菲': '其他', ###\n",
    "    '赛沃替尼': '其他', ###\n",
    "    '阿法替尼': '其他', ###\n",
    "    '尼妥珠单抗': '其他', ###\n",
    "    '舒格利单抗': '其他', ###\n",
    "    'A药': '其他',\n",
    "    '阿得贝利单抗': '其他',\n",
    "    '择捷美': '其他',\n",
    "    '舒格利': '其他',\n",
    "    '吉非替尼': '其他',\n",
    "    '阿美替尼': '其他',\n",
    "    '奥希替尼': '其他',\n",
    "    '安罗替尼': '其他',\n",
    "\n",
    "    '无': np.nan\n",
    "}\n",
    "df14_B1 = df14_B1.replace(mappings).iloc[1:, :]\n",
    "\n"
   ]
  },
  {
   "cell_type": "code",
   "execution_count": null,
   "metadata": {},
   "outputs": [],
   "source": [
    "# %%\n",
    "# check whether all answers have been mapped to known values in brand_list\n",
    "brand_list = ['欧狄沃', '可瑞达', '泰圣奇', '英飞凡', '艾瑞卡', '百泽安', '达伯舒', '拓益', '安尼可', '汉斯状']\n",
    "df14_B1_TF = df14_B1.isin(brand_list)|df14_B1.isnull()\n",
    "not_in_list = df14_B1[~df14_B1_TF]\n",
    "not_in_list.stack() # 西米普利单抗\n"
   ]
  },
  {
   "cell_type": "code",
   "execution_count": null,
   "metadata": {},
   "outputs": [],
   "source": [
    "# %%\n",
    "brand_list.append('其他')\n",
    "# brand_list\n"
   ]
  },
  {
   "cell_type": "code",
   "execution_count": null,
   "metadata": {},
   "outputs": [],
   "source": [
    "# %%\n",
    "# one hot encoding with specified brand list while keeping NA inplace\n",
    "df14_B1_dummies = pd.get_dummies(df14_B1.astype(pd.CategoricalDtype(categories=brand_list)), drop_first=False, dummy_na=True, dtype=int)\n",
    "B1_dummies_dict = {'B1a_1_nan': 'B1a_1', 'B1b_1_nan': 'B1b_1', 'B1b_2_nan': 'B1b_2', 'B1b_3_nan': 'B1b_3', 'B1b_4_nan': 'B1b_4', 'B1b_5_nan': 'B1b_5'}\n",
    "for key, value in B1_dummies_dict.items():\n",
    "    df14_B1_dummies.loc[df14_B1_dummies[key]==1, df14_B1_dummies.columns.str.startswith(value)] = np.nan\n",
    "df14_B1_dummies = df14_B1_dummies.drop(list(B1_dummies_dict.keys()), axis=1)\n",
    "n = len(df14_B1_dummies)\n",
    "# df14_B1_dummies\n"
   ]
  },
  {
   "cell_type": "code",
   "execution_count": null,
   "metadata": {},
   "outputs": [],
   "source": [
    "# %%\n",
    "col_names = ['respid', '品牌', 'B1a-第一自发提及', 'B1b-其他自发提及1', 'B1b-其他自发提及2', 'B1b-其他自发提及3', 'B1b-其他自发提及4', 'B1b-其他自发提及5']\n",
    "df14_B1_new = pd.DataFrame(columns=col_names)\n",
    "for brand in brand_list:\n",
    "    col_key = [col for col in df14_B1_dummies if col.endswith(brand)]\n",
    "    df = df14_B1_dummies[col_key]\n",
    "    df = respid_1.join(df)\n",
    "    brand_col = pd.DataFrame({'品牌': [brand]*(n+1)}) ### ???\n",
    "    df.insert(1, '品牌', brand_col)\n",
    "    df.columns = col_names\n",
    "    df14_B1_new = pd.concat([df14_B1_new, df], axis=0, ignore_index=True)\n",
    "# df14_B1_new\n"
   ]
  },
  {
   "cell_type": "code",
   "execution_count": null,
   "metadata": {},
   "outputs": [],
   "source": [
    "# %%\n",
    "col_B1b = [col for col in df14_B1_new if col.startswith('B1b')]\n",
    "B1b = df14_B1_new[col_B1b]\n",
    "df14_B1_new['B1b-其他自发提及'] = B1b.apply(lambda row: row.max() if row.notna().any() else None, axis=1)\n",
    "df14_B1_new = df14_B1_new.drop(col_B1b, axis=1)\n",
    "# df14_B1_new.loc[df14_B1_new['respid']==374]\n",
    "# df14_B1_new[df14_B1_new['respid']==30144]\n",
    "df14_B1_new"
   ]
  },
  {
   "cell_type": "code",
   "execution_count": null,
   "metadata": {},
   "outputs": [],
   "source": [
    "# col_B2 = [col for col in df14 if col.startswith('B2')]\n",
    "# col_B2.remove('B2_9') # 去除新增品牌：依达方\n",
    "# df14_B2 = df14[col_B2]\n",
    "# df14_B2 = df14_B2.iloc[1:, :-3]\n",
    "# brand_list = [e for e in brand_list if e not in ('拓益', '安尼可')]\n",
    "# df14_B2.columns = brand_list\n",
    "# df14_B2 = respid_1.join(df14_B2)\n",
    "# df14_B2_new = pd.melt(df14_B2, id_vars='respid', var_name='品牌', value_name='B2-提示提及')\n",
    "# df14_B2_new[df14_B2_new['respid']==30031]\n",
    "# # df14_B2_new"
   ]
  },
  {
   "cell_type": "code",
   "execution_count": null,
   "metadata": {},
   "outputs": [],
   "source": [
    "# Lucy\n",
    "col_B2 = [col for col in df14 if col.startswith('B2')]\n",
    "df14_B2 = df14[col_B2]\n",
    "df14_B2 = df14_B2.iloc[1:, :-3]\n",
    "df14_B2['B2_9'] = df14_B2['B2_9'].combine_first(df14_B2['B2_901'])\n",
    "df14_B2 = df14_B2.drop(columns=['B2_901'])\n",
    "brand_list = [e for e in brand_list if e not in ('拓益', '安尼可')]\n",
    "df14_B2.columns = brand_list\n",
    "df14_B2 = respid_1.join(df14_B2)\n",
    "df14_B2_new = pd.melt(df14_B2, id_vars='respid', var_name='品牌', value_name='B2-提示提及')\n",
    "# df14_B2_new[df14_B2_new['respid']==30085]\n",
    "df14_B2_new\n"
   ]
  },
  {
   "cell_type": "code",
   "execution_count": null,
   "metadata": {},
   "outputs": [],
   "source": [
    "# %% 无人选9（依达方）或其他\n",
    "col_B3 = [col for col in df14 if col.startswith('B3')]\n",
    "df14_B3 = df14[col_B3]\n",
    "df14_B3 = df14_B3.iloc[1:, :]\n",
    "brand_dict[99] = '其他'\n",
    "df14_B3 = df14_B3.replace({'B3': brand_dict})\n",
    "df14_B3_dummies = pd.get_dummies(df14_B3.astype(pd.CategoricalDtype(categories=list(brand_dict.values()))), drop_first=False, dummy_na=True, dtype=int)\n",
    "if df14_B3_dummies['B3_nan'].isna().sum()>0:\n",
    "    df14_B3_dummies.loc[df14_B1_dummies['B3_nan']==1, df14_B1_dummies.columns.str.startswith('B3')] = np.nan\n",
    "df14_B3_dummies = df14_B3_dummies.drop('B3_nan', axis=1)\n",
    "df14_B3_dummies.columns = list(brand_dict.values())\n",
    "df14_B3_dummies = respid_1.join(df14_B3_dummies)\n",
    "# df14_B3_dummies\n"
   ]
  },
  {
   "cell_type": "code",
   "execution_count": null,
   "metadata": {},
   "outputs": [],
   "source": [
    "# %%\n",
    "df14_B3_new = pd.melt(df14_B3_dummies, id_vars='respid', var_name='品牌', value_name='B3-首选药物（晚期一线治疗）')\n",
    "df14_B3_new\n"
   ]
  },
  {
   "cell_type": "code",
   "execution_count": null,
   "metadata": {},
   "outputs": [],
   "source": [
    "# %%\n",
    "df14_B_merged = pd.merge(df14_B2_new, df14_B3_new, on=['respid', '品牌'], how='outer')\n",
    "df14_B_merged = pd.merge(df14_B1_new, df14_B_merged, on=['respid', '品牌'], how='outer')\n",
    "df14_B_merged"
   ]
  },
  {
   "cell_type": "code",
   "execution_count": null,
   "metadata": {},
   "outputs": [],
   "source": [
    "col_B4b = [col for col in df14 if col.startswith('B4b')]\n",
    "col_B4b.remove('B4b_9')\n",
    "df14_B4b = df14[col_B4b]\n",
    "df14_B4b.insert(8, '其他', df14['B4other_99'])\n",
    "brand_list.append('其他比例')\n",
    "df14_B4b.columns = brand_list\n",
    "df14_B4b = respid.join(df14_B4b)\n",
    "df14_B4b_other = df14_B4b[['respid', '其他', '其他比例']]\n",
    "df14_B4b = df14_B4b.iloc[1:, :-2]\n",
    "df14_B4b_new = pd.melt(df14_B4b, id_vars='respid', var_name='品牌', value_name='B4b-过去6个月处方比例')\n",
    "# df14_B4b_new"
   ]
  },
  {
   "cell_type": "code",
   "execution_count": null,
   "metadata": {},
   "outputs": [],
   "source": [
    "# # %% Lucy\n",
    "# col_B4b = [col for col in df14 if col.startswith('B4b')]\n",
    "# df14_B4b = df14[col_B4b]\n",
    "# df14_B4b.insert(8, '其他', df14['B4other_99'])\n",
    "# brand_list.append('其他比例')\n",
    "# df14_B4b = df14_B4b.drop(columns=['B4b_9'])\n",
    "# df14_B4b.columns = brand_list\n",
    "# df14_B4b = respid.join(df14_B4b)\n",
    "# df14_B4b_other = df14_B4b[['respid', '其他', '其他比例']]\n",
    "# df14_B4b = df14_B4b.iloc[1:, :-2]\n",
    "# df14_B4b_new = pd.melt(df14_B4b, id_vars='respid', var_name='品牌', value_name='B4b-过去6个月处方比例')\n",
    "# # df14_B4b_new\n"
   ]
  },
  {
   "cell_type": "code",
   "execution_count": null,
   "metadata": {},
   "outputs": [],
   "source": [
    "# %%\n",
    "df14_B4b_other = df14_B4b_other.replace(mappings).iloc[1:, :]\n",
    "# df14_B4b_other[df14_B4b_other['其他'].notna()] # check '其他' column after replacement with mappings dictionary"
   ]
  },
  {
   "cell_type": "code",
   "execution_count": null,
   "metadata": {},
   "outputs": [],
   "source": [
    "merged = pd.merge(df14_B4b_new, df14_B4b_other, left_on=['respid', '品牌'], right_on=['respid', '其他'], how='left')\n",
    "# replace prescription percentages mistakenly put as '其他'\n",
    "merged['B4b-过去6个月处方比例'] = np.where(~merged['其他比例'].isnull(),merged['其他比例'],merged['B4b-过去6个月处方比例'])"
   ]
  },
  {
   "cell_type": "code",
   "execution_count": null,
   "metadata": {},
   "outputs": [],
   "source": [
    "df14_B4b_new = merged.iloc[:, :3]\n",
    "# df14_B4b_new[df14_B4b_new['respid']==29617]\n",
    "df14_B4b_new"
   ]
  },
  {
   "cell_type": "code",
   "execution_count": null,
   "metadata": {},
   "outputs": [],
   "source": [
    "# # %% ignore 其他\n",
    "# brand_list = ['欧狄沃', '可瑞达', '泰圣奇', '英飞凡', '艾瑞卡', '百泽安', '达伯舒', '拓益', '安尼可', '汉斯状', '其他']\n",
    "# df14_B4b_other = df14_B4b_other[df14_B4b_other['其他'].isin(brand_list)] # filter out rows with '其他' column not in brand_list\n",
    "# df14_B4b_other = df14_B4b_other[df14_B4b_other['其他'].notna()]\n",
    "# # df14_B4b_other # nrow = 13\n",
    "# df14_B4b_other.columns = df14_B4b_new.columns\n",
    "# df14_B4b_new = pd.concat([df14_B4b_new, df14_B4b_other], axis=0, ignore_index=True)\n",
    "# df14_B4b_new # nrow = 1293 = 1280 + 13"
   ]
  },
  {
   "cell_type": "markdown",
   "metadata": {},
   "source": [
    " ### Join All"
   ]
  },
  {
   "cell_type": "code",
   "execution_count": null,
   "metadata": {},
   "outputs": [],
   "source": [
    "# %%\n",
    "from functools import reduce\n",
    "df14_Info # 160*20\n",
    "df14_B_merged # 1760*6（8个品牌-其他-11个品牌）\n",
    "df14_C_merged # 1280*13（8个品牌）\n",
    "df14_D_merged # 1280*28（8个品牌）\n",
    "df14_E_merged # 640*12（4个品牌）\n",
    "df14_F_merged # 800*18（5个品牌）\n",
    "df14_G3_new # 1600*3（10个品牌）\n",
    "df14_B4b_new # 处方比例：1293*3 (8个品牌-其他-11个品牌）\n",
    "df14s = [df14_B_merged, df14_C_merged, df14_D_merged, df14_E_merged, df14_F_merged, df14_G3_new, df14_B4b_new]\n",
    "df14_final = reduce(lambda  left,right: pd.merge(left,right, on=['respid', '品牌'], how='outer'), df14s)\n",
    "df14_final = pd.merge(df14_Info, df14_final, on=['respid'], how='outer')\n",
    "# df14_final['B4b-过去6个月处方比例'].fillna(0, inplace=True) # 处方比例中的na替换为0\n"
   ]
  },
  {
   "cell_type": "code",
   "execution_count": null,
   "metadata": {},
   "outputs": [],
   "source": [
    "# %%\n",
    "# parse column names\n",
    "nodes = df14_final.columns.str.split('-', n=1).str[0]\n",
    "labels = df14_final.columns.str.split('-', n=1).str[1]\n",
    "df14_final.columns = nodes\n",
    "# output final data file\n",
    "df14_final.to_excel('02_data\\wave14\\wave14_final.xlsx', sheet_name='Data', index=False) # 1760*99\n"
   ]
  },
  {
   "cell_type": "code",
   "execution_count": null,
   "metadata": {},
   "outputs": [],
   "source": [
    "# %%\n",
    "# output NodeInfo file\n",
    "df14_NodeInfo = pd.DataFrame({'Node': nodes, 'Label': labels})\n",
    "writer = pd.ExcelWriter(r'02_data\\wave14\\wave14_final.xlsx', engine = 'openpyxl', mode='a')\n",
    "df14_NodeInfo.to_excel(writer, sheet_name = 'NodeInfo', index=False)\n",
    "writer.close()\n"
   ]
  }
 ],
 "metadata": {
  "kernelspec": {
   "display_name": "MSD_causal_env",
   "language": "python",
   "name": "python3"
  },
  "language_info": {
   "codemirror_mode": {
    "name": "ipython",
    "version": 3
   },
   "file_extension": ".py",
   "mimetype": "text/x-python",
   "name": "python",
   "nbconvert_exporter": "python",
   "pygments_lexer": "ipython3",
   "version": "3.12.6"
  }
 },
 "nbformat": 4,
 "nbformat_minor": 2
}
