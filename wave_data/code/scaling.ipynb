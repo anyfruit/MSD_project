{
 "cells": [
  {
   "cell_type": "code",
   "execution_count": 2,
   "metadata": {},
   "outputs": [],
   "source": [
    "import pandas as pd"
   ]
  },
  {
   "cell_type": "code",
   "execution_count": 1,
   "metadata": {},
   "outputs": [],
   "source": [
    "def encode_visit_counts(value):\n",
    "    if value == 0:\n",
    "        return 0\n",
    "    elif value == 1:\n",
    "        return 1\n",
    "    elif value == 2:\n",
    "        return 2\n",
    "    else:  # 2次以上\n",
    "        return 3\n",
    "\n",
    "def encode_market_activities(value):\n",
    "    if value == 0:\n",
    "        return 0\n",
    "    elif value == 1:\n",
    "        return 1\n",
    "    else:  # 2次及以上\n",
    "        return 2\n",
    "    \n",
    "def encode_rating_1_7(value):\n",
    "    if value <= 4:\n",
    "        return 0\n",
    "    elif value == 5:\n",
    "        return 1\n",
    "    elif value == 6:\n",
    "        return 2\n",
    "    else:  # 7\n",
    "        return 3\n",
    "\n",
    "def encode_rating_1_10(value):\n",
    "    if value <= 6:\n",
    "        return 0\n",
    "    elif 7 <= value <= 8:\n",
    "        return 1\n",
    "    else:  # 9-10\n",
    "        return 2"
   ]
  },
  {
   "cell_type": "code",
   "execution_count": null,
   "metadata": {},
   "outputs": [],
   "source": [
    "df = pd.read_excel(\"/Users/fruit/Desktop/IQVIA/MSD/wave_data/data/wave13_wave14_combined.xlsx\")"
   ]
  },
  {
   "cell_type": "code",
   "execution_count": null,
   "metadata": {},
   "outputs": [],
   "source": [
    "# Example\n",
    "df[\"F1a_1_encode\"] = df[\"F1a_1\"].apply(encode_market_activities)\n",
    "df[\"C2_1_encode\"] = df[\"C2_1\"].apply(encode_rating_1_7)"
   ]
  }
 ],
 "metadata": {
  "kernelspec": {
   "display_name": "iqvia",
   "language": "python",
   "name": "python3"
  },
  "language_info": {
   "codemirror_mode": {
    "name": "ipython",
    "version": 3
   },
   "file_extension": ".py",
   "mimetype": "text/x-python",
   "name": "python",
   "nbconvert_exporter": "python",
   "pygments_lexer": "ipython3",
   "version": "3.12.7"
  }
 },
 "nbformat": 4,
 "nbformat_minor": 2
}
